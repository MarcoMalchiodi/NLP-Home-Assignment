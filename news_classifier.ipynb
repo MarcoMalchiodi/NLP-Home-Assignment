{
 "cells": [
  {
   "cell_type": "code",
   "execution_count": 1,
   "metadata": {},
   "outputs": [],
   "source": [
    "import pandas as pd \n",
    "import numpy as np \n",
    "import matplotlib.pyplot as plt"
   ]
  },
  {
   "cell_type": "markdown",
   "metadata": {},
   "source": [
    "**Preprocessing Data**"
   ]
  },
  {
   "cell_type": "code",
   "execution_count": 140,
   "metadata": {},
   "outputs": [],
   "source": [
    "from sklearn.preprocessing import OneHotEncoder\n",
    "from sklearn.compose import ColumnTransformer"
   ]
  },
  {
   "cell_type": "code",
   "execution_count": 141,
   "metadata": {},
   "outputs": [],
   "source": [
    "df = pd.read_json('datasets/news.json').drop('source',axis=1)"
   ]
  },
  {
   "cell_type": "code",
   "execution_count": 142,
   "metadata": {},
   "outputs": [
    {
     "data": {
      "text/html": [
       "<div>\n",
       "<style scoped>\n",
       "    .dataframe tbody tr th:only-of-type {\n",
       "        vertical-align: middle;\n",
       "    }\n",
       "\n",
       "    .dataframe tbody tr th {\n",
       "        vertical-align: top;\n",
       "    }\n",
       "\n",
       "    .dataframe thead th {\n",
       "        text-align: right;\n",
       "    }\n",
       "</style>\n",
       "<table border=\"1\" class=\"dataframe\">\n",
       "  <thead>\n",
       "    <tr style=\"text-align: right;\">\n",
       "      <th></th>\n",
       "      <th>article</th>\n",
       "      <th>orientation</th>\n",
       "    </tr>\n",
       "  </thead>\n",
       "  <tbody>\n",
       "    <tr>\n",
       "      <th>0</th>\n",
       "      <td>Health authorities in one state have issued an...</td>\n",
       "      <td>western_conservative</td>\n",
       "    </tr>\n",
       "    <tr>\n",
       "      <th>1</th>\n",
       "      <td>\\n'Kennedy Saves the World' podcast host Kenne...</td>\n",
       "      <td>western_conservative</td>\n",
       "    </tr>\n",
       "    <tr>\n",
       "      <th>2</th>\n",
       "      <td>\\nFormer counterterrorism analyst Jonathan Sch...</td>\n",
       "      <td>western_conservative</td>\n",
       "    </tr>\n",
       "    <tr>\n",
       "      <th>3</th>\n",
       "      <td>\\nFox News Flash top headlines are here. Check...</td>\n",
       "      <td>western_conservative</td>\n",
       "    </tr>\n",
       "    <tr>\n",
       "      <th>4</th>\n",
       "      <td>\\nCrowe is charged with harassment and stalkin...</td>\n",
       "      <td>western_conservative</td>\n",
       "    </tr>\n",
       "  </tbody>\n",
       "</table>\n",
       "</div>"
      ],
      "text/plain": [
       "                                             article           orientation\n",
       "0  Health authorities in one state have issued an...  western_conservative\n",
       "1  \\n'Kennedy Saves the World' podcast host Kenne...  western_conservative\n",
       "2  \\nFormer counterterrorism analyst Jonathan Sch...  western_conservative\n",
       "3  \\nFox News Flash top headlines are here. Check...  western_conservative\n",
       "4  \\nCrowe is charged with harassment and stalkin...  western_conservative"
      ]
     },
     "execution_count": 142,
     "metadata": {},
     "output_type": "execute_result"
    }
   ],
   "source": [
    "df.head()"
   ]
  },
  {
   "cell_type": "code",
   "execution_count": 143,
   "metadata": {},
   "outputs": [
    {
     "name": "stdout",
     "output_type": "stream",
     "text": [
      "<class 'pandas.core.frame.DataFrame'>\n",
      "RangeIndex: 1164 entries, 0 to 1163\n",
      "Data columns (total 2 columns):\n",
      " #   Column       Non-Null Count  Dtype \n",
      "---  ------       --------------  ----- \n",
      " 0   article      1164 non-null   object\n",
      " 1   orientation  1164 non-null   object\n",
      "dtypes: object(2)\n",
      "memory usage: 18.3+ KB\n"
     ]
    }
   ],
   "source": [
    "df.info()"
   ]
  },
  {
   "cell_type": "code",
   "execution_count": 144,
   "metadata": {},
   "outputs": [
    {
     "data": {
      "text/plain": [
       "array(['western_conservative', 'non_western', 'western_progressive'],\n",
       "      dtype=object)"
      ]
     },
     "execution_count": 144,
     "metadata": {},
     "output_type": "execute_result"
    }
   ],
   "source": [
    "df['orientation'].unique()"
   ]
  },
  {
   "cell_type": "code",
   "execution_count": 145,
   "metadata": {},
   "outputs": [
    {
     "data": {
      "text/plain": [
       "array([[0.0, 1.0, 0.0,\n",
       "        'Health authorities in one state have issued an urgent alert for residents who visited a Costco, DFO, businesses and caught trams after two measles cases were infectious while in public.\\n\\n\\n\\n\\n\\n\\n\\n\\n\\n\\n\\n\\n\\n\\n\\n\\n\\n\\n\\n\\nVictorian residents have been put on alert after two holidaymakers returning from overseas were unknowingly infectious with measles while out in the community.\\nThe Department of Health revealed the new cases on Saturday afternoon, which brings the total measles cases to three after another traveller was identified this week.\\nAt least 10 exposure sites have been listed, with the days ranging between Wednesday January 17 and Wednesday January 24, on the department\\'s website.\\nWant more news? Stream Sky News Australia’s live channel here. \\nWednesday January 17 \\n6am to 3pm: Bay City Auto Group (and associated construction site) 14 Dandenong Road West, Frankston\\n7:30pm to 9pm: Box Hill Action Indoor Sports 9 Clarice Road, Box Hill\\nThursday January 18\\n6am to 3pm: Bay City Auto Group (and associated construction site) 14 Dandenong Road West, Frankston\\nFriday January 19\\n6am to 3pm: Bay City Auto Group (and associated construction site) 14 Dandenong Road West, Frankston\\nMonday January 22\\n5:30pm to 7:20pm: Costco Ringwood, 29 Bond St, Ringwood\\nYou can now subscribe to stream four news channels live, and watch full Sky News Australia shows on demand, with the Sky News Australia app on mobile and tablet devices.\\nTerms and conditions apply. Content accessible in Australia only.\\nTuesday January 23\\n12 to 12:45pm: DFO South Wharf - shopping centre and carpark, 20 Convention Centre Pl\\n12:15pm to 2:30pm: Docklands Park Playground, 1-47 Harbour Esplanade, Docklands\\n12:40pm to 1:40pm: Collins Square Food Court, 727 Collin St, Docklands\\n1:10pm to 1:40pm: Tram 48 to North Balwyn from Stop 1 Spencer St/Collins St to Stop 5 Elizabeth St/Collins St #5\\n1:40pm to 3:35pm: Sea Life Melbourne Aquarium King St\\n3:30pm to 5:30pm: Melbourne River Cruises 4pm departure, Berth 2, Federation Wharf, Princes Walk, Melbourne\\n5:30pm to 6pm: tram 70 to Waterfront City Docklands. From Stop 6 Russell Street/Flinders St to Stop D6-Victoria Police Centre/Flinders St\\n5:40pm to 6:20pm: DFO South Wharf - carpark only, 20 Convention Centre Place\\nPeople who visited any of the places mentioned have been asked to monitor symptoms up to February 4 right through to February 10 depending on the date.\\nSome of the symptoms associated with measles includes flu-like signs such as runny nose, red eyes and a cough, followed by a fever or rash.\\nA rash then appears three to four days later, which most often starts on the face and then spreads to the rest of the body.\\n\\n\\n\\n\\n\\n\\n\\n\\n\\n\\n\\n\\n\\n\\n\\n\\n\\n\\n\\n\\nVictoria’s Acting Chief Health Officer Dr Christian McGrath said the MMR vaccine can be given within 72 hours of exposure to prevent infection.\\n\"Failing that, we recommend that people monitor for symptoms and seek medical attention if any symptoms develop,\" he said in a statement.\\nRecent cases of measles have been found in people who were not fully vaccinated and had been infected while travelling overseas.\\nThose planning on international travel anytime soon are encouraged to see their doctor to get the MRR vaccine.\\nMore information on measles can be found on the Better Health Channel website.\\n\\n\\nOur Apps'],\n",
       "       [0.0, 1.0, 0.0,\n",
       "        '\\n\\'Kennedy Saves the World\\' podcast host Kennedy and Fox News contributor Tyrus join ‘America’s Newsroom’ to discuss Swift’s alleged stalker David Crowe and Ring no longer providing videos to police.\\nTaylor Swift continued to be the most talked about woman on the Internet on Sunday, when the Kansas City Chiefs were declared Super Bowl bound.\\nDespite Travis Kelce and Swift being at the forefront of trends, X still had her name blocked from the search function on its platform.\\nThe decision to keep Taylor\\'s name unsearchable on X began earlier in the week after it was discovered that sexually explicit AI-generated images were circulating on the social media network. \\nTAYLOR SWIFT AI-GENERATED EXPLICIT PHOTOS OUTRAGE FANS: ‘PROTECT TAYLOR SWIFT’\\nTaylor Swift searches were blocked from X amid an overwhelming number of fake images. (Getty Images)\\nRepresentatives for X did not immediately respond to Fox News Digital\\'s request for comment.\\nAs of Monday morning, Swift\\'s name was still not searchable on the platform. Users could still search for \"Taylor\" and \"Swift\" individually.\\nThe fake pornographic images made the rounds on Thursday, with X suspending at least one account associated with the images.\\nTAYLOR SWIFT\\'S ALLEGED STALKER ACCUSED OF VISITING HER NYC HOME 30 TIMES\\nX seemed to respond to the backlash with a statement shared by their safety team notifying users that posting \"non-consensual nudity (NCN) images is strictly prohibited on X and we have a zero-tolerance policy towards such content.\" \\nTaylor Swift\\'s name was still unsearchable on X as of Monday morning. (X)\\nLIKE WHAT YOU’RE READING? CLICK HERE FOR MORE ENTERTAINMENT NEWS\\n\"Our teams are actively removing all identified images and taking appropriate actions against the accounts responsible for posting them,\" they said. \"We\\'re closely monitoring the situation to ensure that any further violations are immediately addressed, and the content is removed. We\\'re committed to maintaining a safe and respectful environment for all users.\"\\nThe White House reacted Friday to the explicit images that went viral of Swift and leaned on Congress for a legislative crackdown.\\nCLICK HERE TO SIGN UP FOR THE ENTERTAINMENT NEWSLETTER\\n\"We are alarmed by the reports of the circulation of images … of false images to be more exact. And it is alarming,\" White House press secretary Karine Jean-Pierre said during a press briefing. \\nTaylor Swift was backed by the White House and SAG-AFTRA. (Gareth Cattermole)\\n\"So while social media companies make their own independent decisions about content management, we believe they have an important role to play in enforcing their own rules to prevent the spread of misinformation and non-consensual, intimate imagery of real people.\" \\nThe SAG-AFTRA actors union denounced the false images of Swift as \"upsetting\" and \"deeply concerning.\"\\nCLICK HERE TO GET THE FOX NEWS APP\\n\"The development and dissemination of fake images — especially those of a lewd nature — without someone’s consent must be made illegal,\" the union said in a statement. \"As a society, we have it in our power to control these technologies, but we must act now before it is too late.\" \\nThey added, \"We support Taylor, and women everywhere who are the victims of this kind of theft of their privacy and right to autonomy.\"\\nTracy Wright is an entertainment reporter for Fox News Digital. Send story tips to Tracy.Wright@fox.com.\\nWho\\'s making headlines in television, music, movies and more from Hollywood to the Heartland.\\n\\n\\nThis material may not be published, broadcast, rewritten, or redistributed. ©2024 FOX News Network, LLC. All rights reserved. Quotes displayed in real-time or delayed by at least 15 minutes. Market data provided by Factset. Powered and implemented by FactSet Digital Solutions. Legal Statement. Mutual Fund and ETF data provided by Refinitiv Lipper.'],\n",
       "       [0.0, 1.0, 0.0,\n",
       "        '\\nFormer counterterrorism analyst Jonathan Schanzer joins ‘Fox & Friends Weekend’ to discuss the latest reports that the UNRWA allegedly was involved in Hamas’ October 7 attack. \\nIsrael has provided the Biden administration with a new dossier with information about how staffers for a United Nations agency assisted or supported the Hamas terror attacks on Oct. 7, Fox News has learned. \\nThe dossier specifically alleges that 12 employees who worked with the United Nations Relief and Works Agency for Palestine Refugees in the Near East (UNRWA) aided in different capacities. According to the dossier, seven UN staffers crossed into Israel on Oct. 7 while other were accused of \"participating in a terror activity\" or coordinating vehicle movements.\\nThe dossier alleged that some 190 employees of UNRWA in Gaza had ties to Islamist terror groups; however, intelligence estimates provided to The Wall Street Journal put the number at approximately 1,200, or 10% of UNRWA\\'s Gaza workforce.\\nThe document says two joined Hamas terrorists in raiding an Israeli kibbutz and directly participated in violence, another two staffers kidnapped an Israeli woman, holding her hostage in their personal home; and, another UN staffer doled out ammunition to the Hamas terrorists.\\nAUSTRIA SUSPENDS PAYMENTS TO UNRWA AMID ISRAELI ALLEGATIONS UN WORKERS HELPED, CELEBRATED HAMAS\\nAn Israeli soldier patrols near Kibbutz Beeri in southern Israel on October 12, 2023, close to the place where 270 Israelis were killed by militants during the Supernova music festival on October 7. Thousands of people, both Israeli and Palestinians have died since October 7, 2023, after Palestinian Hamas militants entered Israel in a surprise attack leading Israel to declare war on Hamas in the Gaza Strip enclave the following day.  (ARIS MESSINIS/AFP via Getty Images)\\nThe dossier specifies the UN workers involved, providing their photos and a description of their roles at the agency. \\nUN Secretary-General Antonio Guterres said the individuals who were alleged to have been involved in the attack are no longer employed. \\n\"Of the 12 people implicated, nine were immediately identified and terminated by the Commissioner-General of UNRWA, Philippe Lazzarini; one is confirmed dead, and the identity of the two others is being clarified,\" said Guterres.\\nFILE PHOTO: A truck, marked with United Nations Relief and Works Agency (UNRWA) logo, crosses into Egypt from Gaza, at the Rafah border crossing between Egypt and the Gaza Strip, during a temporary truce between Hamas and Israel, in Rafah, Egypt, November 27, 2023.  (REUTERS/Amr Abdallah Dalsh/File Photo)\\nHe also said any UN employee that is found to have been involved in terror acts \"will be held accountable, including through criminal prosecution.\"\\nTRUMP ADMIN CUT FUNDING TO UN AGENCY NOW ACCUSED OF PARTICIPATING IN HAMAS ATTACK ‘FOR REASON’: REP. MCCAUL\\nOf the 12 workers, nine were teachers and one a social worker. Ten were specifically listed as having ties to Hamas and one to the Islamic Jihad terrorist group.\\nPolice Officer walks near a police station that was destroyed after a battle between Israeli troops and Hamas militants that have take the station  on October 8, 2023 in Sderot, Israel.  (Amir Levy/Getty Images)\\nThe allegations against the UNRWA staffers ignited worldwide backlash and prompted a dozen Western countries to suspend payments to the agency.\\nThe countries that paused payments to the aid agency include: the United States, the United Kingdom, France, Germany, Italy, Australia, Finland, the Netherlands, Switzerland, Canada, Japan and Austria.\\nUN CALLS ON COUNTRIES TO RESUME UNRWA FUNDING DESPITE REPORT EMPLOYEES PARTICIPATED IN OCT 7 MASSACRE\\nAustria was the most recent country to join the list, announcing their decision on Monday.\\n\"We call on UNRWA and the United Nations to conduct a comprehensive, swift and complete investigation into the allegations,\" the Austrian ministry said in a statement.\\nA picture taken from the southern Israeli city of Sderot on October 25, 2023, shows smoke ascending over the northern Gaza Strip following an Israeli strike, amid the ongoing battles between Israel and the Palestinian group Hamas.  (RONALDO SCHEMIDT/AFP via Getty Images)\\nThe contribution from these countries made up more than 60% of UNRWA’s total budget in 2022.\\nUNRWA provides basic services for millions of Palestinians across the Middle East but, with the majority of their financial support now in doubt, the agency said it will be forced to halt operations within weeks.\\nVisitors look at photos of Israeli people who were killed during Hamas militants attack on Oct. 7 and those who died during the Israel-Hamas war in the Gaza Strip, displayed on a giant screen at the National Library in Jerusalem, Israel, Sunday, Jan. 28, 2024.  (AP Photo/Leo Correa)\\nCLICK HERE TO GET THE FOX NEWS APP\\nCommunications Director Juliette Touma said if the funding is not restored, then the agency could be forced to stop its support in Gaza by the end of February.\\nFox News\\' Yonat Friling, Gillian Turner and The Associated Press contributed to this report.\\nFox News\\' \"Antisemitism Exposed\" newsletter brings you stories on the rising anti-Jewish prejudice across the U.S. and the world.\\n\\n\\nThis material may not be published, broadcast, rewritten, or redistributed. ©2024 FOX News Network, LLC. All rights reserved. Quotes displayed in real-time or delayed by at least 15 minutes. Market data provided by Factset. Powered and implemented by FactSet Digital Solutions. Legal Statement. Mutual Fund and ETF data provided by Refinitiv Lipper.']],\n",
       "      dtype=object)"
      ]
     },
     "execution_count": 145,
     "metadata": {},
     "output_type": "execute_result"
    }
   ],
   "source": [
    "# Turn categories into numbers\n",
    "\n",
    "# Define the categorical features\n",
    "categorical_features = ['orientation']\n",
    "\n",
    "# Initialize the OneHotEncoder\n",
    "one_hot = OneHotEncoder()\n",
    "\n",
    "# Initialize the ColumnTransformer\n",
    "transformer = ColumnTransformer([('one_hot', one_hot, categorical_features)], remainder='passthrough')\n",
    "\n",
    "# Apply the transformation to your dataframe\n",
    "df_transformed = transformer.fit_transform(df)\n",
    "df_transformed[:3]"
   ]
  },
  {
   "cell_type": "code",
   "execution_count": 146,
   "metadata": {},
   "outputs": [
    {
     "data": {
      "text/html": [
       "<div>\n",
       "<style scoped>\n",
       "    .dataframe tbody tr th:only-of-type {\n",
       "        vertical-align: middle;\n",
       "    }\n",
       "\n",
       "    .dataframe tbody tr th {\n",
       "        vertical-align: top;\n",
       "    }\n",
       "\n",
       "    .dataframe thead th {\n",
       "        text-align: right;\n",
       "    }\n",
       "</style>\n",
       "<table border=\"1\" class=\"dataframe\">\n",
       "  <thead>\n",
       "    <tr style=\"text-align: right;\">\n",
       "      <th></th>\n",
       "      <th>western_conservative</th>\n",
       "      <th>non_western</th>\n",
       "      <th>western_progressive</th>\n",
       "      <th>article</th>\n",
       "    </tr>\n",
       "  </thead>\n",
       "  <tbody>\n",
       "    <tr>\n",
       "      <th>0</th>\n",
       "      <td>0.0</td>\n",
       "      <td>1.0</td>\n",
       "      <td>0.0</td>\n",
       "      <td>health authorities in one state have issued an...</td>\n",
       "    </tr>\n",
       "    <tr>\n",
       "      <th>1</th>\n",
       "      <td>0.0</td>\n",
       "      <td>1.0</td>\n",
       "      <td>0.0</td>\n",
       "      <td>kennedy saves the world podcast host kennedy a...</td>\n",
       "    </tr>\n",
       "    <tr>\n",
       "      <th>2</th>\n",
       "      <td>0.0</td>\n",
       "      <td>1.0</td>\n",
       "      <td>0.0</td>\n",
       "      <td>former counterterrorism analyst jonathan schan...</td>\n",
       "    </tr>\n",
       "    <tr>\n",
       "      <th>3</th>\n",
       "      <td>0.0</td>\n",
       "      <td>1.0</td>\n",
       "      <td>0.0</td>\n",
       "      <td>fox news flash top headlines are here check ou...</td>\n",
       "    </tr>\n",
       "    <tr>\n",
       "      <th>4</th>\n",
       "      <td>0.0</td>\n",
       "      <td>1.0</td>\n",
       "      <td>0.0</td>\n",
       "      <td>crowe is charged with harassment and stalking ...</td>\n",
       "    </tr>\n",
       "  </tbody>\n",
       "</table>\n",
       "</div>"
      ],
      "text/plain": [
       "  western_conservative non_western western_progressive  \\\n",
       "0                  0.0         1.0                 0.0   \n",
       "1                  0.0         1.0                 0.0   \n",
       "2                  0.0         1.0                 0.0   \n",
       "3                  0.0         1.0                 0.0   \n",
       "4                  0.0         1.0                 0.0   \n",
       "\n",
       "                                             article  \n",
       "0  health authorities in one state have issued an...  \n",
       "1  kennedy saves the world podcast host kennedy a...  \n",
       "2  former counterterrorism analyst jonathan schan...  \n",
       "3  fox news flash top headlines are here check ou...  \n",
       "4  crowe is charged with harassment and stalking ...  "
      ]
     },
     "execution_count": 146,
     "metadata": {},
     "output_type": "execute_result"
    }
   ],
   "source": [
    "# Turning it into\n",
    "data = pd.DataFrame(df_transformed)\n",
    "data.columns = ['western_conservative','non_western','western_progressive','article']\n",
    "\n",
    "# Removing \\n and pre-word-embedding cleaning\n",
    "char = '\\\\'\n",
    "data['article'] = data['article'].str.replace('\"','')\n",
    "data['article'] = data['article'].str.replace(\"'\",\"\")\n",
    "data['article'] = data['article'].str.replace(',','')\n",
    "data['article'] = data['article'].str.replace('.','')\n",
    "data['article'] = data['article'].str.lower()\n",
    "data['article'] = data['article'].str.replace('\\n','')\n",
    "data['article'] = data['article'].str.replace(char,'')\n",
    "data['article'] = data['article'].str.replace('/','')\n",
    "data['article'] = data['article'].str.replace('—','')\n",
    "data['article'] = data['article'].str.replace('_','')\n",
    "data['article'] = data['article'].str.replace('’','')\n",
    "data['article'] = data['article'].str.replace('-','')\n",
    "data['article'] = data['article'].str.replace('@','')\n",
    "data['article'] = data['article'].str.replace('–','')\n",
    "data['article'] = data['article'].str.replace('‘','')\n",
    "data['article'] = data['article'].str.replace('…','')\n",
    "data['article'] = data['article'].str.replace('”','')\n",
    "data['article'] = data['article'].str.replace('“','')\n",
    "data['article'] = data['article'].str.replace(':','')\n",
    "data['article'] = data['article'].str.replace('!','')\n",
    "data['article'] = data['article'].str.replace('?','')\n",
    "data['article'] = data['article'].str.replace('^','')\n",
    "data['article'] = data['article'].str.replace('<','')\n",
    "data.head()"
   ]
  },
  {
   "cell_type": "code",
   "execution_count": 147,
   "metadata": {},
   "outputs": [],
   "source": [
    "# Removing stopwrods for word-embedding\n",
    "from nltk.corpus import stopwords\n",
    "\n",
    "def remove_stopwords(text):\n",
    "    stop_words = set(stopwords.words('english'))\n",
    "    words = text.split()\n",
    "    filtered_words = [word for word in words if word.lower() not in stop_words]\n",
    "    return ' '.join(filtered_words)"
   ]
  },
  {
   "cell_type": "code",
   "execution_count": 148,
   "metadata": {},
   "outputs": [],
   "source": [
    "data['article'] = data['article'].apply(remove_stopwords)"
   ]
  },
  {
   "cell_type": "code",
   "execution_count": 149,
   "metadata": {},
   "outputs": [
    {
     "data": {
      "text/html": [
       "<div>\n",
       "<style scoped>\n",
       "    .dataframe tbody tr th:only-of-type {\n",
       "        vertical-align: middle;\n",
       "    }\n",
       "\n",
       "    .dataframe tbody tr th {\n",
       "        vertical-align: top;\n",
       "    }\n",
       "\n",
       "    .dataframe thead th {\n",
       "        text-align: right;\n",
       "    }\n",
       "</style>\n",
       "<table border=\"1\" class=\"dataframe\">\n",
       "  <thead>\n",
       "    <tr style=\"text-align: right;\">\n",
       "      <th></th>\n",
       "      <th>western_conservative</th>\n",
       "      <th>non_western</th>\n",
       "      <th>western_progressive</th>\n",
       "      <th>article</th>\n",
       "    </tr>\n",
       "  </thead>\n",
       "  <tbody>\n",
       "    <tr>\n",
       "      <th>0</th>\n",
       "      <td>0.0</td>\n",
       "      <td>1.0</td>\n",
       "      <td>0.0</td>\n",
       "      <td>health authorities one state issued urgent ale...</td>\n",
       "    </tr>\n",
       "    <tr>\n",
       "      <th>1</th>\n",
       "      <td>0.0</td>\n",
       "      <td>1.0</td>\n",
       "      <td>0.0</td>\n",
       "      <td>kennedy saves world podcast host kennedy fox n...</td>\n",
       "    </tr>\n",
       "    <tr>\n",
       "      <th>2</th>\n",
       "      <td>0.0</td>\n",
       "      <td>1.0</td>\n",
       "      <td>0.0</td>\n",
       "      <td>former counterterrorism analyst jonathan schan...</td>\n",
       "    </tr>\n",
       "    <tr>\n",
       "      <th>3</th>\n",
       "      <td>0.0</td>\n",
       "      <td>1.0</td>\n",
       "      <td>0.0</td>\n",
       "      <td>fox news flash top headlines check whats click...</td>\n",
       "    </tr>\n",
       "    <tr>\n",
       "      <th>4</th>\n",
       "      <td>0.0</td>\n",
       "      <td>1.0</td>\n",
       "      <td>0.0</td>\n",
       "      <td>crowe charged harassment stalking related acti...</td>\n",
       "    </tr>\n",
       "  </tbody>\n",
       "</table>\n",
       "</div>"
      ],
      "text/plain": [
       "  western_conservative non_western western_progressive  \\\n",
       "0                  0.0         1.0                 0.0   \n",
       "1                  0.0         1.0                 0.0   \n",
       "2                  0.0         1.0                 0.0   \n",
       "3                  0.0         1.0                 0.0   \n",
       "4                  0.0         1.0                 0.0   \n",
       "\n",
       "                                             article  \n",
       "0  health authorities one state issued urgent ale...  \n",
       "1  kennedy saves world podcast host kennedy fox n...  \n",
       "2  former counterterrorism analyst jonathan schan...  \n",
       "3  fox news flash top headlines check whats click...  \n",
       "4  crowe charged harassment stalking related acti...  "
      ]
     },
     "execution_count": 149,
     "metadata": {},
     "output_type": "execute_result"
    }
   ],
   "source": [
    "data.head()"
   ]
  },
  {
   "cell_type": "code",
   "execution_count": 150,
   "metadata": {},
   "outputs": [],
   "source": [
    "# Saving cleaned data\n",
    "data.to_csv('news_clean.csv',index=False)"
   ]
  },
  {
   "cell_type": "markdown",
   "metadata": {},
   "source": [
    "***Word-Embedding***"
   ]
  },
  {
   "cell_type": "code",
   "execution_count": 163,
   "metadata": {},
   "outputs": [
    {
     "data": {
      "text/plain": [
       "(1162, 4)"
      ]
     },
     "execution_count": 163,
     "metadata": {},
     "output_type": "execute_result"
    }
   ],
   "source": [
    "data = pd.read_csv('datasets/news_clean.csv').dropna()\n",
    "data.shape"
   ]
  },
  {
   "cell_type": "code",
   "execution_count": 164,
   "metadata": {},
   "outputs": [],
   "source": [
    "from gensim.models import Word2Vec\n",
    "from gensim.utils import simple_preprocess\n",
    "\n",
    "# tokenizing text data\n",
    "tokenized_data = [simple_preprocess(article) for article in data['article']]\n",
    "\n",
    "# training Word2Vec model\n",
    "# using recommended parameters\n",
    "word2vec_model = Word2Vec(sentences=tokenized_data, vector_size=100, window=5, min_count=1, workers=4)\n",
    "\n",
    "\n",
    "# retrieving word vectors for each token in the article\n",
    "word_vectors = []\n",
    "for tokens in tokenized_data:\n",
    "    vectors = [word2vec_model.wv[token] for token in tokens if token in word2vec_model.wv]\n",
    "    if vectors:\n",
    "        article_vector = sum(vectors) / len(vectors)  # average the word vectors to get one vector per article\n",
    "        word_vectors.append(article_vector)\n",
    "    else:\n",
    "        word_vectors.append(None)  # handle case where all tokens are out-of-vocabulary\n",
    "\n",
    "# converting word_vectors to pandas series\n",
    "word_vectors_series = pd.Series(word_vectors, name='word_embeddings')\n",
    "\n",
    "# adding  the word vectors as a new column in your DataFrame\n",
    "data['word_embeddings'] = word_vectors_series"
   ]
  },
  {
   "cell_type": "code",
   "execution_count": 165,
   "metadata": {},
   "outputs": [
    {
     "data": {
      "text/html": [
       "<div>\n",
       "<style scoped>\n",
       "    .dataframe tbody tr th:only-of-type {\n",
       "        vertical-align: middle;\n",
       "    }\n",
       "\n",
       "    .dataframe tbody tr th {\n",
       "        vertical-align: top;\n",
       "    }\n",
       "\n",
       "    .dataframe thead th {\n",
       "        text-align: right;\n",
       "    }\n",
       "</style>\n",
       "<table border=\"1\" class=\"dataframe\">\n",
       "  <thead>\n",
       "    <tr style=\"text-align: right;\">\n",
       "      <th></th>\n",
       "      <th>western_conservative</th>\n",
       "      <th>non_western</th>\n",
       "      <th>western_progressive</th>\n",
       "      <th>article</th>\n",
       "      <th>word_embeddings</th>\n",
       "    </tr>\n",
       "  </thead>\n",
       "  <tbody>\n",
       "    <tr>\n",
       "      <th>0</th>\n",
       "      <td>0.0</td>\n",
       "      <td>1.0</td>\n",
       "      <td>0.0</td>\n",
       "      <td>health authorities one state issued urgent ale...</td>\n",
       "      <td>[-0.5961671, 0.14073516, -0.049852327, -0.4266...</td>\n",
       "    </tr>\n",
       "    <tr>\n",
       "      <th>1</th>\n",
       "      <td>0.0</td>\n",
       "      <td>1.0</td>\n",
       "      <td>0.0</td>\n",
       "      <td>kennedy saves world podcast host kennedy fox n...</td>\n",
       "      <td>[-0.89580506, 0.21152776, -0.11414346, -0.5553...</td>\n",
       "    </tr>\n",
       "    <tr>\n",
       "      <th>2</th>\n",
       "      <td>0.0</td>\n",
       "      <td>1.0</td>\n",
       "      <td>0.0</td>\n",
       "      <td>former counterterrorism analyst jonathan schan...</td>\n",
       "      <td>[-0.70675737, 0.26028955, -0.012638905, -0.601...</td>\n",
       "    </tr>\n",
       "    <tr>\n",
       "      <th>3</th>\n",
       "      <td>0.0</td>\n",
       "      <td>1.0</td>\n",
       "      <td>0.0</td>\n",
       "      <td>fox news flash top headlines check whats click...</td>\n",
       "      <td>[-1.009354, 0.24867468, -0.29608953, -0.782901...</td>\n",
       "    </tr>\n",
       "    <tr>\n",
       "      <th>4</th>\n",
       "      <td>0.0</td>\n",
       "      <td>1.0</td>\n",
       "      <td>0.0</td>\n",
       "      <td>crowe charged harassment stalking related acti...</td>\n",
       "      <td>[-0.7127712, 0.23845907, -0.058488887, -0.5192...</td>\n",
       "    </tr>\n",
       "  </tbody>\n",
       "</table>\n",
       "</div>"
      ],
      "text/plain": [
       "   western_conservative  non_western  western_progressive  \\\n",
       "0                   0.0          1.0                  0.0   \n",
       "1                   0.0          1.0                  0.0   \n",
       "2                   0.0          1.0                  0.0   \n",
       "3                   0.0          1.0                  0.0   \n",
       "4                   0.0          1.0                  0.0   \n",
       "\n",
       "                                             article  \\\n",
       "0  health authorities one state issued urgent ale...   \n",
       "1  kennedy saves world podcast host kennedy fox n...   \n",
       "2  former counterterrorism analyst jonathan schan...   \n",
       "3  fox news flash top headlines check whats click...   \n",
       "4  crowe charged harassment stalking related acti...   \n",
       "\n",
       "                                     word_embeddings  \n",
       "0  [-0.5961671, 0.14073516, -0.049852327, -0.4266...  \n",
       "1  [-0.89580506, 0.21152776, -0.11414346, -0.5553...  \n",
       "2  [-0.70675737, 0.26028955, -0.012638905, -0.601...  \n",
       "3  [-1.009354, 0.24867468, -0.29608953, -0.782901...  \n",
       "4  [-0.7127712, 0.23845907, -0.058488887, -0.5192...  "
      ]
     },
     "execution_count": 165,
     "metadata": {},
     "output_type": "execute_result"
    }
   ],
   "source": [
    "data.head()"
   ]
  },
  {
   "cell_type": "code",
   "execution_count": 133,
   "metadata": {},
   "outputs": [],
   "source": [
    "# Right now the arrays are Series containing whole strings\n",
    "# Converting to lists with floats:\n",
    "import ast\n",
    "\n",
    "def convert_str(x):\n",
    "    \n",
    "    neu = ast.literal_eval(x)\n",
    "    \n",
    "    return neu\n",
    "\n",
    "data = data.dropna(axis=0)\n",
    "\n",
    "data['word_embeddings'] = data['word_embeddings'].apply(convert_str)"
   ]
  },
  {
   "cell_type": "code",
   "execution_count": null,
   "metadata": {},
   "outputs": [],
   "source": [
    "type(data['word_embeddings'][0])\n",
    "# List"
   ]
  },
  {
   "cell_type": "code",
   "execution_count": 123,
   "metadata": {},
   "outputs": [
    {
     "data": {
      "text/plain": [
       "float"
      ]
     },
     "execution_count": 123,
     "metadata": {},
     "output_type": "execute_result"
    }
   ],
   "source": [
    "type(data['word_embeddings'][0][0])\n",
    "# Float"
   ]
  },
  {
   "cell_type": "code",
   "execution_count": 166,
   "metadata": {},
   "outputs": [],
   "source": [
    "# Saving the word-embedded dataframe\n",
    "data.to_csv('news_embedded.csv',index=False)"
   ]
  },
  {
   "cell_type": "markdown",
   "metadata": {},
   "source": [
    "_____________________\n",
    "**Model Fitting and Evaluation**\n",
    "\n",
    "The problem is a Text Classification Problem. \n",
    "\n",
    "For this kind of problem suitable models could be:\n",
    "\n",
    "- Naive Bayes\n",
    "\n",
    "- Support Vector Machines (SVM)\n",
    "\n",
    "- Random Forest or Gradient Boosting Machines\n",
    "\n",
    "- Neural Networks: deep learning models like Convolutional Neural Networks (CNNs) or Recurrent Neural Networks (RNNs).\n",
    "\n",
    "\n",
    "However, since at the time of making this model the dataset has a limited number of samples, I will be focusing on the Naive Bayes model."
   ]
  },
  {
   "cell_type": "code",
   "execution_count": 145,
   "metadata": {},
   "outputs": [],
   "source": [
    "data = pd.read_csv('datasets/news_embedded.csv')"
   ]
  },
  {
   "cell_type": "code",
   "execution_count": 154,
   "metadata": {},
   "outputs": [],
   "source": [
    "from sklearn.model_selection import train_test_split\n",
    "from sklearn.feature_extraction.text import CountVectorizer\n",
    "from sklearn.naive_bayes import MultinomialNB\n",
    "from sklearn.metrics import accuracy_score\n",
    "\n",
    "\n",
    "# Concatenating the label columns into a single label column\n",
    "data['label'] = data[['western_conservative', 'non_western', 'western_progressive']].idxmax(axis=1)\n",
    "\n",
    "# Splitting the data into training and testing sets\n",
    "X_train, X_test, y_train, y_test = train_test_split(data['article'], data['label'], test_size=0.2, random_state=42)\n",
    "\n",
    "# Vectorizing the text data\n",
    "vectorizer = CountVectorizer()\n",
    "X_train_vectorized = vectorizer.fit_transform(X_train)\n",
    "X_test_vectorized = vectorizer.transform(X_test)\n",
    "\n",
    "# Create the model and fitting it to the data\n",
    "nb_classifier = MultinomialNB()\n",
    "nb_classifier.fit(X_train_vectorized, y_train)\n",
    "\n",
    "# Making predictions\n",
    "y_pred = nb_classifier.predict(X_test_vectorized)"
   ]
  },
  {
   "cell_type": "code",
   "execution_count": 155,
   "metadata": {},
   "outputs": [
    {
     "name": "stdout",
     "output_type": "stream",
     "text": [
      "Accuracy: 0.9267241379310345\n"
     ]
    }
   ],
   "source": [
    "# Evaluating the model\n",
    "accuracy = accuracy_score(y_test, y_pred)\n",
    "print(\"Accuracy:\", accuracy)"
   ]
  },
  {
   "cell_type": "code",
   "execution_count": 165,
   "metadata": {},
   "outputs": [
    {
     "name": "stdout",
     "output_type": "stream",
     "text": [
      "Article                             former president donald trump seeking sweeping...\n",
      "Predicted Label                                                   western_progressive\n",
      "non_western Probability                                                           0.0\n",
      "western_conservative Probability                                                  0.0\n",
      "western_progressive Probability                                                   1.0\n",
      "Name: 865, dtype: object\n"
     ]
    }
   ],
   "source": [
    "# Getting predicted probabilities\n",
    "proba = nb_classifier.predict_proba(X_test_vectorized)\n",
    "\n",
    "# Creating a DataFrame to display results\n",
    "results_data = pd.DataFrame({'Article': X_test, 'Predicted Label': y_pred})\n",
    "for i, label in enumerate(nb_classifier.classes_):\n",
    "    results_data[label + ' Probability'] = proba[:, i]\n",
    "\n",
    "# Printing the results\n",
    "print(results_data.iloc[90])"
   ]
  }
 ],
 "metadata": {
  "kernelspec": {
   "display_name": "Python 3",
   "language": "python",
   "name": "python3"
  },
  "language_info": {
   "codemirror_mode": {
    "name": "ipython",
    "version": 3
   },
   "file_extension": ".py",
   "mimetype": "text/x-python",
   "name": "python",
   "nbconvert_exporter": "python",
   "pygments_lexer": "ipython3",
   "version": "3.11.4"
  }
 },
 "nbformat": 4,
 "nbformat_minor": 2
}
